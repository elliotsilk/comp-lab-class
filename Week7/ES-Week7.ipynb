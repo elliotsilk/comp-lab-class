{
 "cells": [
  {
   "cell_type": "code",
   "execution_count": 6,
   "metadata": {},
   "outputs": [],
   "source": [
    "# this notebook is for plotting\n",
    "# the end to end analysis\n",
    "import numpy as np\n",
    "import matplotlib.pyplot as plt\n",
    "#load mdtraj\n",
    "import mdtraj as md\n",
    "import os"
   ]
  },
  {
   "cell_type": "code",
   "execution_count": 7,
   "metadata": {
    "scrolled": true
   },
   "outputs": [],
   "source": [
    "os.chdir(\"/home/ess545/comp-lab-class/comp-lab-class/Week7/\")"
   ]
  },
  {
   "cell_type": "code",
   "execution_count": 8,
   "metadata": {},
   "outputs": [],
   "source": [
    "# from VMD we know RMSD = 1.5975"
   ]
  },
  {
   "cell_type": "code",
   "execution_count": 9,
   "metadata": {},
   "outputs": [],
   "source": [
    "# load .pdb file\n",
    "crystal = md.load(\"Inputs/2w9t.pdb\")\n",
    "colab = md.load(\"Inputs/DHFR2W9T_596c5_unrelaxed_rank_1_model_5.pdb\")\n",
    "alphafold_0 = md.load(\"Inputs/rcsb_pdb_2W9T/ranked_0.pdb\")\n",
    "alphafold_1 = md.load(\"Inputs/rcsb_pdb_2W9T/ranked_1.pdb\")\n",
    "alphafold_2 = md.load(\"Inputs/rcsb_pdb_2W9T/ranked_2.pdb\")\n",
    "alphafold_3 = md.load(\"Inputs/rcsb_pdb_2W9T/ranked_3.pdb\")\n",
    "alphafold_4 = md.load(\"Inputs/rcsb_pdb_2W9T/ranked_4.pdb\")"
   ]
  },
  {
   "cell_type": "code",
   "execution_count": 10,
   "metadata": {},
   "outputs": [],
   "source": [
    "# align two structures based on alpha carbons\n",
    "af0_align = alphafold_0.superpose(crystal, 0, atom_indices=crystal.top.select('name CA'))\n",
    "af1_align = alphafold_1.superpose(crystal, 0, atom_indices=crystal.top.select('name CA'))\n",
    "af2_align = alphafold_2.superpose(crystal, 0, atom_indices=crystal.top.select('name CA'))\n",
    "af3_align = alphafold_3.superpose(crystal, 0, atom_indices=crystal.top.select('name CA'))\n",
    "af4_align = alphafold_4.superpose(crystal, 0, atom_indices=crystal.top.select('name CA'))\n"
   ]
  },
  {
   "cell_type": "code",
   "execution_count": 11,
   "metadata": {},
   "outputs": [
    {
     "name": "stdout",
     "output_type": "stream",
     "text": [
      "[2.1794763]\n",
      "[2.1836731]\n",
      "[2.181992]\n",
      "[2.1798484]\n",
      "[2.182787]\n"
     ]
    }
   ],
   "source": [
    "# compute RMSD for alpha carbons \n",
    "rmsd_a0_CA = md.rmsd(crystal, alphafold_0, 0, atom_indices = crystal.top.select('name CA'))\n",
    "rmsd_a1_CA = md.rmsd(crystal, alphafold_1, 0, atom_indices = crystal.top.select('name CA'))\n",
    "rmsd_a2_CA = md.rmsd(crystal, alphafold_2, 0, atom_indices = crystal.top.select('name CA'))\n",
    "rmsd_a3_CA = md.rmsd(crystal, alphafold_3, 0, atom_indices = crystal.top.select('name CA'))\n",
    "rmsd_a4_CA = md.rmsd(crystal, alphafold_4, 0, atom_indices = crystal.top.select('name CA'))\n",
    "\n",
    "print(rmsd_a0_CA)\n",
    "print(rmsd_a1_CA)\n",
    "print(rmsd_a2_CA)\n",
    "print(rmsd_a3_CA)\n",
    "print(rmsd_a4_CA)"
   ]
  },
  {
   "cell_type": "code",
   "execution_count": 12,
   "metadata": {},
   "outputs": [
    {
     "name": "stdout",
     "output_type": "stream",
     "text": [
      "[2.1743612]\n",
      "[2.1777475]\n",
      "[2.176707]\n",
      "[2.1743047]\n",
      "[2.1778584]\n"
     ]
    }
   ],
   "source": [
    "# compute RMSD for backbone\n",
    "rmsd_a0_backbone = md.rmsd(crystal, alphafold_0, 0, atom_indices = crystal.top.select('backbone'))\n",
    "rmsd_a1_backbone = md.rmsd(crystal, alphafold_1, 0, atom_indices = crystal.top.select('backbone'))\n",
    "rmsd_a2_backbone = md.rmsd(crystal, alphafold_2, 0, atom_indices = crystal.top.select('backbone'))\n",
    "rmsd_a3_backbone = md.rmsd(crystal, alphafold_3, 0, atom_indices = crystal.top.select('backbone'))\n",
    "rmsd_a4_backbone = md.rmsd(crystal, alphafold_4, 0, atom_indices = crystal.top.select('backbone'))\n",
    "\n",
    "print(rmsd_a0_backbone)\n",
    "print(rmsd_a1_backbone)\n",
    "print(rmsd_a2_backbone)\n",
    "print(rmsd_a3_backbone)\n",
    "print(rmsd_a4_backbone)"
   ]
  },
  {
   "cell_type": "code",
   "execution_count": 13,
   "metadata": {},
   "outputs": [
    {
     "name": "stdout",
     "output_type": "stream",
     "text": [
      "[2.2040715]\n",
      "[2.205441]\n",
      "[2.2038753]\n",
      "[2.2019432]\n",
      "[2.2042208]\n"
     ]
    }
   ],
   "source": [
    "# compute rmsd for side chain\n",
    "rmsd_a0_side = md.rmsd(crystal, alphafold_0, 0, atom_indices = crystal.top.select('sidechain'))\n",
    "rmsd_a1_side = md.rmsd(crystal, alphafold_1, 0, atom_indices = crystal.top.select('sidechain'))\n",
    "rmsd_a2_side = md.rmsd(crystal, alphafold_2, 0, atom_indices = crystal.top.select('sidechain'))\n",
    "rmsd_a3_side = md.rmsd(crystal, alphafold_3, 0, atom_indices = crystal.top.select('sidechain'))\n",
    "rmsd_a4_side = md.rmsd(crystal, alphafold_4, 0, atom_indices = crystal.top.select('sidechain'))\n",
    "\n",
    "print(rmsd_a0_side)\n",
    "print(rmsd_a1_side)\n",
    "print(rmsd_a2_side)\n",
    "print(rmsd_a3_side)\n",
    "print(rmsd_a4_side)"
   ]
  },
  {
   "cell_type": "code",
   "execution_count": 16,
   "metadata": {},
   "outputs": [
    {
     "ename": "NameError",
     "evalue": "name 'all_alpha_carbons' is not defined",
     "output_type": "error",
     "traceback": [
      "\u001b[0;31m---------------------------------------------------------------------------\u001b[0m",
      "\u001b[0;31mNameError\u001b[0m                                 Traceback (most recent call last)",
      "Cell \u001b[0;32mIn [16], line 16\u001b[0m\n\u001b[1;32m     14\u001b[0m plt\u001b[39m.\u001b[39mylabel(\u001b[39m'\u001b[39m\u001b[39mAlphafold predictions\u001b[39m\u001b[39m'\u001b[39m)\n\u001b[1;32m     15\u001b[0m plt\u001b[39m.\u001b[39mlegend(loc \u001b[39m=\u001b[39m \u001b[39m'\u001b[39m\u001b[39mupper left\u001b[39m\u001b[39m'\u001b[39m)\n\u001b[0;32m---> 16\u001b[0m \u001b[39mfor\u001b[39;00m i, value \u001b[39min\u001b[39;00m \u001b[39menumerate\u001b[39m(all_alpha_carbons):\n\u001b[1;32m     17\u001b[0m     ax\u001b[39m.\u001b[39mtext(value \u001b[39m+\u001b[39m \u001b[39m0.4\u001b[39m, i \u001b[39m+\u001b[39m \u001b[39m0.2\u001b[39m, \u001b[39mstr\u001b[39m(\u001b[39mround\u001b[39m(value, \u001b[39m3\u001b[39m)))\n\u001b[1;32m     18\u001b[0m \u001b[39mfor\u001b[39;00m j, value \u001b[39min\u001b[39;00m \u001b[39menumerate\u001b[39m(all_backbone):\n",
      "\u001b[0;31mNameError\u001b[0m: name 'all_alpha_carbons' is not defined"
     ]
    },
    {
     "data": {
      "image/png": "[encoded data removed]",
      "text/plain": [
       "<Figure size 600x600 with 1 Axes>"
      ]
     },
     "metadata": {},
     "output_type": "display_data"
    }
   ],
   "source": [
    "# bar plot of RMSD calculations\n",
    "# create a figure\n",
    "fig, ax = plt.subplots(1, 1, figsize=(6,6))\n",
    "groups = ['Alphafold 0', 'Alphafold 1', 'Alphafold 2', 'Alphafold 3', 'Alphafold 4']\n",
    "alpha = [rmsd_a0_CA[0], rmsd_a1_CA[0], rmsd_a2_CA[0], rmsd_a3_CA[0], rmsd_a4_CA[0]]\n",
    "backbone = [rmsd_a0_backbone[0], rmsd_a1_backbone[0], rmsd_a2_backbone[0], rmsd_a3_backbone[0], rmsd_a4_backbone[0]]\n",
    "sidechain = [rmsd_a0_side[0], rmsd_a1_side[0], rmsd_a2_side[0], rmsd_a3_side[0], rmsd_a4_side[0]]\n",
    "X_axis = np.arange(len(groups))\n",
    "plt.barh(X_axis - 0.2, alpha, 0.2, label = 'Alpha Carbons')\n",
    "plt.barh(X_axis, backbone, 0.2, label = 'Backbone')\n",
    "plt.barh(X_axis + 0.2, sidechain, 0.2, label = 'Sidechain')\n",
    "plt.yticks(X_axis, groups)\n",
    "plt.xlabel(\"RMSD\")\n",
    "plt.ylabel('Alphafold predictions')\n",
    "plt.legend(loc = 'upper left')\n",
    "for i, value in enumerate(all_alpha_carbons):\n",
    "    ax.text(value + 0.4, i + 0.2, str(round(value, 3)))\n",
    "for j, value in enumerate(all_backbone):\n",
    "    ax.text(value + 0.4, j, str(round(value, 3)))\n",
    "for k, value in enumerate(all_sidechain):\n",
    "    ax.text(value + 0.36, k - 0.17, str(round(value, 3)))\n",
    "# save the figure\n",
    "plt.savefig('rmsd_bar_plot.png', dpi=500, bbox_inches='tight')"
   ]
  },
  {
   "cell_type": "code",
   "execution_count": null,
   "metadata": {},
   "outputs": [],
   "source": []
  }
 ],
 "metadata": {
  "kernelspec": {
   "display_name": "lab_env",
   "language": "python",
   "name": "lab_env"
  },
  "language_info": {
   "codemirror_mode": {
    "name": "ipython",
    "version": 3
   },
   "file_extension": ".py",
   "mimetype": "text/x-python",
   "name": "python",
   "nbconvert_exporter": "python",
   "pygments_lexer": "ipython3",
   "version": "3.9.12"
  }
 },
 "nbformat": 4,
 "nbformat_minor": 4
}
