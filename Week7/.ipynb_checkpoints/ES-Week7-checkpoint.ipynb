{
 "cells": [
  {
   "cell_type": "code",
   "execution_count": 2,
   "metadata": {},
   "outputs": [],
   "source": [
    "# this notebook is for plotting\n",
    "# the end to end analysis\n",
    "import numpy as np\n",
    "import matplotlib.pyplot as plt\n",
    "#load mdtraj\n",
    "import mdtraj as md\n",
    "import os"
   ]
  },
  {
   "cell_type": "code",
   "execution_count": 3,
   "metadata": {
    "scrolled": true
   },
   "outputs": [],
   "source": [
    "os.chdir(\"/home/ess545/comp-lab-class/comp-lab-class/Week7/\")"
   ]
  },
  {
   "cell_type": "code",
   "execution_count": 4,
   "metadata": {},
   "outputs": [],
   "source": [
    "# from VMD we know RMSD = 1.5975"
   ]
  },
  {
   "cell_type": "code",
   "execution_count": 9,
   "metadata": {},
   "outputs": [],
   "source": [
    "# load .pdb file\n",
    "crystal = md.load(\"Inputs/2w9t.pdb\")\n",
    "colab = md.load(\"Inputs/DHFR2W9T_596c5_unrelaxed_rank_1_model_5.pdb\")\n",
    "alphafold_0 = md.load(\"Inputs/rcsb_pdb_2W9T/ranked_0.pdb\")\n",
    "alphafold_1 = md.load(\"Inputs/rcsb_pdb_2W9T/ranked_1.pdb\")\n",
    "alphafold_2 = md.load(\"Inputs/rcsb_pdb_2W9T/ranked_2.pdb\")\n",
    "alphafold_3 = md.load(\"Inputs/rcsb_pdb_2W9T/ranked_3.pdb\")\n",
    "alphafold_4 = md.load(\"Inputs/rcsb_pdb_2W9T/ranked_4.pdb\")"
   ]
  },
  {
   "cell_type": "code",
   "execution_count": 10,
   "metadata": {},
   "outputs": [],
   "source": [
    "# align two structures based on alpha carbons\n",
    "af0_align = alphafold_0.superpose(crystal, 0, atom_indices=crystal.top.select('name CA'))\n",
    "af1_align = alphafold_1.superpose(crystal, 0, atom_indices=crystal.top.select('name CA'))\n",
    "af2_align = alphafold_2.superpose(crystal, 0, atom_indices=crystal.top.select('name CA'))\n",
    "af3_align = alphafold_3.superpose(crystal, 0, atom_indices=crystal.top.select('name CA'))\n",
    "af4_align = alphafold_4.superpose(crystal, 0, atom_indices=crystal.top.select('name CA'))\n"
   ]
  },
  {
   "cell_type": "code",
   "execution_count": 18,
   "metadata": {},
   "outputs": [
    {
     "name": "stdout",
     "output_type": "stream",
     "text": [
      "[2.1794763]\n",
      "[2.1836731]\n",
      "[2.181992]\n",
      "[2.1798484]\n",
      "[2.182787]\n"
     ]
    }
   ],
   "source": [
    "# compute RMSD for alpha carbons \n",
    "rmsd_a0_CA = md.rmsd(crystal, alphafold_0, 0, atom_indices = crystal.top.select('name CA'))\n",
    "rmsd_a1_CA = md.rmsd(crystal, alphafold_1, 0, atom_indices = crystal.top.select('name CA'))\n",
    "rmsd_a2_CA = md.rmsd(crystal, alphafold_2, 0, atom_indices = crystal.top.select('name CA'))\n",
    "rmsd_a3_CA = md.rmsd(crystal, alphafold_3, 0, atom_indices = crystal.top.select('name CA'))\n",
    "rmsd_a4_CA = md.rmsd(crystal, alphafold_4, 0, atom_indices = crystal.top.select('name CA'))\n",
    "\n",
    "print(rmsd_a0_CA)\n",
    "print(rmsd_a1_CA)\n",
    "print(rmsd_a2_CA)\n",
    "print(rmsd_a3_CA)\n",
    "print(rmsd_a4_CA)"
   ]
  },
  {
   "cell_type": "code",
   "execution_count": 17,
   "metadata": {},
   "outputs": [
    {
     "name": "stdout",
     "output_type": "stream",
     "text": [
      "[2.1743612]\n",
      "[2.1777475]\n",
      "[2.176707]\n",
      "[2.1743047]\n",
      "[2.1778584]\n"
     ]
    }
   ],
   "source": [
    "# compute RMSD for backbone\n",
    "rmsd_a0_backbone = md.rmsd(crystal, alphafold_0, 0, atom_indices = crystal.top.select('backbone'))\n",
    "rmsd_a1_backbone = md.rmsd(crystal, alphafold_1, 0, atom_indices = crystal.top.select('backbone'))\n",
    "rmsd_a2_backbone = md.rmsd(crystal, alphafold_2, 0, atom_indices = crystal.top.select('backbone'))\n",
    "rmsd_a3_backbone = md.rmsd(crystal, alphafold_3, 0, atom_indices = crystal.top.select('backbone'))\n",
    "rmsd_a4_backbone = md.rmsd(crystal, alphafold_4, 0, atom_indices = crystal.top.select('backbone'))\n",
    "\n",
    "print(rmsd_a0_backbone)\n",
    "print(rmsd_a1_backbone)\n",
    "print(rmsd_a2_backbone)\n",
    "print(rmsd_a3_backbone)\n",
    "print(rmsd_a4_backbone)"
   ]
  },
  {
   "cell_type": "code",
   "execution_count": null,
   "metadata": {},
   "outputs": [],
   "source": []
  },
  {
   "cell_type": "code",
   "execution_count": null,
   "metadata": {},
   "outputs": [],
   "source": []
  }
 ],
 "metadata": {
  "kernelspec": {
   "display_name": "lab_env",
   "language": "python",
   "name": "lab_env"
  },
  "language_info": {
   "codemirror_mode": {
    "name": "ipython",
    "version": 3
   },
   "file_extension": ".py",
   "mimetype": "text/x-python",
   "name": "python",
   "nbconvert_exporter": "python",
   "pygments_lexer": "ipython3",
   "version": "3.9.12"
  }
 },
 "nbformat": 4,
 "nbformat_minor": 4
}
