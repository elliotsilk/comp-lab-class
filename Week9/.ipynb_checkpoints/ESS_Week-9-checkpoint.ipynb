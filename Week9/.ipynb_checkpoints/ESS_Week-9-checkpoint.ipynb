{
 "cells": [
  {
   "cell_type": "code",
   "execution_count": 30,
   "metadata": {},
   "outputs": [],
   "source": [
    "import numpy as np\n",
    "import matplotlib.pyplot as plt\n",
    "#load mdtraj\n",
    "import mdtraj as md\n",
    "import os\n",
    "import MDAnalysis as mda"
   ]
  },
  {
   "cell_type": "code",
   "execution_count": 32,
   "metadata": {
    "scrolled": true
   },
   "outputs": [],
   "source": [
    "# load the topology\n",
    "# u = mda.Universe(\"Data/equil/kalj_T0.475_n360_v300_30000000_1.lammpstrj\", \"Data/prod/kalj_T0.475_n360_v300_prod_30000000_1.unwrap.dcd\", topology_format=\"LAMMPSDUMP\")\n",
    "topol = 'Data/equil/kalj_T0.475_n360_v300_30000000_1.lammpstrj'\n",
    "\n",
    "# load the data\n",
    "traj_T0475 = mda.Universe(topol, \"Data/prod/kalj_T0.475_n360_v300_prod_30000000_1.unwrap.dcd\", topology_format=\"LAMMPSDUMP\")\n",
    "traj_T055 = mda.Universe(topol, \"Data/prod/kalj_T0.55_n360_v300_prod_3000000_1.unwrap.dcd\", topology_format=\"LAMMPSDUMP\")\n",
    "traj_T05 = mda.Universe(topol, \"Data/prod/kalj_T0.5_n360_v300_prod_10000000_1.unwrap.dcd\", topology_format=\"LAMMPSDUMP\")\n",
    "traj_T065 = mda.Universe(topol, \"Data/prod/kalj_T0.65_n360_v300_prod_350000_1.unwrap.dcd\", topology_format=\"LAMMPSDUMP\")\n",
    "traj_T06 = mda.Universe(topol, \"Data/prod/kalj_T0.6_n360_v300_prod_1000000_1.unwrap.dcd\", topology_format=\"LAMMPSDUMP\")\n",
    "traj_T06 = mda.Universe(topol, \"Data/prod/kalj_T0.6_n360_v300_prod_1000000_1.unwrap.dcd\", topology_format=\"LAMMPSDUMP\")\n",
    "traj_T07 = mda.Universe(topol, \"Data/prod/kalj_T0.7_n360_v300_prod_180000_1.unwrap.dcd\", topology_format=\"LAMMPSDUMP\")\n",
    "traj_T08 = mda.Universe(topol, \"Data/prod/kalj_T0.8_n360_v300_prod_150000_1.unwrap.dcd\", topology_format=\"LAMMPSDUMP\")\n",
    "traj_T09 = mda.Universe(topol, \"Data/prod/kalj_T0.9_n360_v300_prod_150000_1.unwrap.dcd\", topology_format=\"LAMMPSDUMP\")\n",
    "traj_T1 = mda.Universe(topol, \"Data/prod/kalj_T1_n360_v300_prod_50000_1.unwrap.dcd\", topology_format=\"LAMMPSDUMP\")\n",
    "traj_T15 = mda.Universe(topol, \"Data/prod/kalj_T1.5_n360_v300_prod_10000_1.unwrap.dcd\", topology_format=\"LAMMPSDUMP\")\n"
   ]
  },
  {
   "cell_type": "code",
   "execution_count": null,
   "metadata": {},
   "outputs": [],
   "source": [
    "# load data from each temp\n",
    "traj_T15"
   ]
  }
 ],
 "metadata": {
  "kernelspec": {
   "display_name": "lab_env",
   "language": "python",
   "name": "lab_env"
  },
  "language_info": {
   "codemirror_mode": {
    "name": "ipython",
    "version": 3
   },
   "file_extension": ".py",
   "mimetype": "text/x-python",
   "name": "python",
   "nbconvert_exporter": "python",
   "pygments_lexer": "ipython3",
   "version": "3.9.12"
  }
 },
 "nbformat": 4,
 "nbformat_minor": 4
}
